{
 "cells": [
  {
   "cell_type": "code",
   "execution_count": 12,
   "metadata": {},
   "outputs": [],
   "source": [
    "import requests\n",
    "import json"
   ]
  },
  {
   "cell_type": "code",
   "execution_count": 252,
   "metadata": {},
   "outputs": [],
   "source": [
    "with open('filtered_data_to_movie.json', 'r') as fp:\n",
    "    data_to_movie = json.load(fp)"
   ]
  },
  {
   "cell_type": "code",
   "execution_count": 18,
   "metadata": {},
   "outputs": [],
   "source": [
    "with open('filtered_movie_to_data.json', 'w') as fp:\n",
    "    json.dump(movie_to_data, fp, indent=4)"
   ]
  },
  {
   "cell_type": "code",
   "execution_count": 16,
   "metadata": {},
   "outputs": [],
   "source": [
    "with open('filtered_movie_to_data.json', 'r') as fp:\n",
    "    movie_to_data = json.load(fp)\n",
    "data_to_movie=dict()\n",
    "for id in movie_to_data:\n",
    "  data = movie_to_data[id]\n",
    "  for key in data:\n",
    "    if key not in data_to_movie:\n",
    "      data_to_movie[key]=dict()\n",
    "for id in movie_to_data:\n",
    "  data=movie_to_data[id]\n",
    "  for key in data:\n",
    "    val = data_to_movie[key]\n",
    "    for values in data[key]:\n",
    "      if values not in val:\n",
    "        val[values]=[]\n",
    "      val[values].append(id)\n",
    "with open('filtered_data_to_movie.json', 'w') as fp:\n",
    "    json.dump(data_to_movie, fp, indent=4)"
   ]
  },
  {
   "cell_type": "code",
   "execution_count": 289,
   "metadata": {},
   "outputs": [],
   "source": [
    "subject = []\n",
    "for keys in data_to_movie['subject']:\n",
    "    subject.append(keys)"
   ]
  },
  {
   "cell_type": "code",
   "execution_count": 290,
   "metadata": {},
   "outputs": [],
   "source": [
    "reduced_subject = []\n",
    "for key in subject:\n",
    "    if key.startswith('Indian'):\n",
    "        reduced_subject.append(key)\n",
    "reduced_subject.append('Films about cancer')\n",
    "reduced_subject.remove('Indian films')\n",
    "reduced_subject.remove('Indian films without songs')\n",
    "reduced_subject.remove('Indian spy films')\n",
    "reduced_subject.remove('Indian 3D films')\n",
    "reduced_subject.remove('Indian science fiction films')\n",
    "reduced_subject.remove('Indian art films')\n",
    "reduced_subject.remove('Indian films set in New York City')\n",
    "reduced_subject.remove('Indian Western (genre) films')\n",
    "reduced_subject.remove('Indian-American films')\n",
    "reduced_subject.remove('Indian teen films')\n",
    "reduced_subject.remove('Indian erotic films')\n",
    "reduced_subject.remove('Indian legal films')\n",
    "reduced_subject.remove('Indian action drama films')\n",
    "reduced_subject.remove('Indian action thriller films')\n",
    "reduced_subject.remove('Indian crime thriller films')\n",
    "reduced_subject.remove('Indian comedy-drama films')\n",
    "reduced_subject.remove('Indian religious comedy films')\n",
    "reduced_subject.remove('Indian crime drama films')\n",
    "reduced_subject.remove('Indian romantic musical films')\n",
    "reduced_subject.remove('Indian ghost films')\n",
    "reduced_subject.remove('Indian political films')\n",
    "reduced_subject.remove('Indian disaster films')\n",
    "reduced_subject.remove('Indian fantasy films')\n",
    "reduced_subject.remove('Indian black comedy films')\n",
    "reduced_subject.remove('Indian psychological thriller films')\n",
    "reduced_subject.remove('Indian romantic thriller films')\n",
    "reduced_subject.remove('Indian dance films')\n",
    "reduced_subject.remove('Indian films based on plays')\n",
    "reduced_subject.remove('Indian historical films')\n",
    "# reduced_subject.remove('Indian legal films')\n",
    "# reduced_subject.remove('Indian legal films')\n",
    "# reduced_subject.remove('Indian legal films')\n"
   ]
  },
  {
   "cell_type": "code",
   "execution_count": 291,
   "metadata": {},
   "outputs": [
    {
     "name": "stdout",
     "output_type": "stream",
     "text": [
      "Indian epic films ['0', '38', '43', '59', '61', '83']\n",
      "Indian musical films ['0', '13', '19', '29', '38']\n",
      "Indian buddy films ['0', '18', '28', '30', '31', '44', '50', '56', '70', '81']\n",
      "Indian action films ['0', '3', '6', '8', '9', '15', '24', '39', '48', '60', '82', '88', '88']\n",
      "Indian comedy films ['1', '15', '18', '25', '28', '30', '32', '40', '44', '52', '54', '55', '63', '65', '67', '75']\n",
      "Indian drama films ['1', '2', '3', '5', '25', '27', '28', '33', '35', '37', '40', '56', '59', '61', '62', '63', '65', '67', '68', '71', '78', '79', '80']\n",
      "Indian film remakes ['5', '19', '39', '44', '46']\n",
      "Indian superhero films ['7', '16']\n",
      "Indian children's films ['7', '12', '35']\n",
      "Indian crime films ['9', '22', '39', '59', '62', '73', '74', '77', '81', '87']\n",
      "Indian romance films ['10', '14', '17', '19', '20', '22', '23', '26', '36', '42', '46', '47', '48', '88']\n",
      "Indian thriller films ['11', '22', '26', '33', '46', '49', '53', '58', '68', '73']\n",
      "Indian biographical films ['13', '43', '45', '61', '64', '66', '77', '79', '84', '86']\n",
      "Indian romantic drama films ['14', '29', '34', '38', '43', '49', '58', '67']\n",
      "Indian coming-of-age films ['17', '20', '28', '30', '41', '56']\n",
      "Indian romantic comedy films ['18', '19', '40', '41', '51', '69']\n",
      "Indian aviation films ['21', '66']\n",
      "Indian war films ['21', '26', '43', '72']\n",
      "Indian road movies ['28', '34', '56', '65', '76']\n",
      "Indian satirical films ['52', '75', '85']\n",
      "Indian sports films ['57', '60', '64', '70', '84', '86']\n",
      "Films about cancer ['4']\n"
     ]
    }
   ],
   "source": [
    "ss = set()\n",
    "for i in reduced_subject:\n",
    "    print(i, end=' ')\n",
    "    print(data_to_movie['subject'][i])\n",
    "    for z in data_to_movie['subject'][i]:\n",
    "        ss.add(int(z))\n",
    "#     ss.update(data_to_movie['subject'][i])"
   ]
  },
  {
   "cell_type": "code",
   "execution_count": 292,
   "metadata": {},
   "outputs": [],
   "source": [
    "rs = set(reduced_subject)\n",
    "for movie in movie_to_data:\n",
    "    sub = set(movie_to_data[movie]['subject'])\n",
    "    inter = rs.intersection(sub)\n",
    "    zzz = sub - inter\n",
    "    movie_to_data[movie]['genre_new'] = list(inter)\n",
    "    movie_to_data[movie]['subject_new'] = list(zzz)"
   ]
  },
  {
   "cell_type": "code",
   "execution_count": 275,
   "metadata": {},
   "outputs": [],
   "source": [
    "for key in movie_to_data:\n",
    "    ll = movie_to_data[key]\n",
    "    key = int(key)\n",
    "    if 0<=key<=6:\n",
    "        year = 1970\n",
    "    elif 7<=key<=16:\n",
    "        year = 1980\n",
    "    elif 17<=key<=27:\n",
    "        year = 1990\n",
    "    elif 28<=key<=50:\n",
    "        year = 2000\n",
    "    else:\n",
    "        year = 2010\n",
    "    ll['release_year']=[year]"
   ]
  },
  {
   "cell_type": "code",
   "execution_count": 20,
   "metadata": {},
   "outputs": [
    {
     "name": "stdout",
     "output_type": "stream",
     "text": [
      "<class 'list'>\n",
      "<class 'list'>\n",
      "<class 'list'>\n",
      "<class 'list'>\n",
      "<class 'list'>\n",
      "<class 'list'>\n",
      "<class 'list'>\n",
      "<class 'list'>\n",
      "<class 'list'>\n",
      "<class 'list'>\n",
      "<class 'list'>\n",
      "<class 'list'>\n",
      "<class 'list'>\n",
      "<class 'list'>\n",
      "<class 'list'>\n",
      "<class 'list'>\n",
      "<class 'list'>\n",
      "<class 'list'>\n",
      "<class 'list'>\n",
      "<class 'list'>\n",
      "<class 'list'>\n",
      "<class 'list'>\n",
      "<class 'list'>\n",
      "<class 'list'>\n",
      "<class 'list'>\n",
      "<class 'list'>\n",
      "<class 'list'>\n",
      "<class 'list'>\n",
      "<class 'list'>\n",
      "<class 'list'>\n",
      "<class 'list'>\n",
      "<class 'list'>\n",
      "<class 'list'>\n",
      "<class 'list'>\n",
      "<class 'list'>\n",
      "<class 'list'>\n",
      "<class 'list'>\n",
      "<class 'list'>\n",
      "<class 'list'>\n",
      "<class 'list'>\n",
      "<class 'list'>\n",
      "<class 'list'>\n",
      "<class 'list'>\n",
      "<class 'list'>\n",
      "<class 'list'>\n",
      "<class 'list'>\n",
      "<class 'list'>\n",
      "<class 'list'>\n",
      "<class 'list'>\n",
      "<class 'list'>\n",
      "<class 'list'>\n",
      "<class 'list'>\n",
      "<class 'list'>\n",
      "<class 'list'>\n",
      "<class 'list'>\n",
      "<class 'list'>\n",
      "<class 'list'>\n",
      "<class 'list'>\n",
      "<class 'list'>\n",
      "<class 'list'>\n",
      "<class 'list'>\n",
      "<class 'list'>\n",
      "<class 'list'>\n",
      "<class 'list'>\n",
      "<class 'list'>\n",
      "<class 'list'>\n",
      "<class 'list'>\n",
      "<class 'list'>\n",
      "<class 'list'>\n",
      "<class 'list'>\n",
      "<class 'list'>\n",
      "<class 'list'>\n",
      "<class 'list'>\n",
      "<class 'list'>\n",
      "<class 'list'>\n",
      "<class 'list'>\n",
      "<class 'list'>\n",
      "<class 'list'>\n",
      "<class 'list'>\n",
      "<class 'list'>\n",
      "<class 'list'>\n",
      "<class 'list'>\n",
      "<class 'list'>\n",
      "<class 'list'>\n",
      "<class 'list'>\n",
      "<class 'list'>\n",
      "<class 'list'>\n",
      "<class 'list'>\n",
      "<class 'list'>\n"
     ]
    }
   ],
   "source": [
    "for key in movie_to_data:\n",
    "    val = (movie_to_data[key]['subject_new'])\n",
    "    print(type(val))\n",
    "    if 'Indian films' in val:\n",
    "        print(key)\n",
    "        movie_to_data[key]['subject_new'].remove('Indian films')\n",
    "#     if val contains 'Indian films':\n",
    "#         print(key)\n",
    "#     print(movie_to_data[key]['label'])"
   ]
  },
  {
   "cell_type": "code",
   "execution_count": 17,
   "metadata": {},
   "outputs": [],
   "source": [
    "for key in movie_to_data:\n",
    "    if 'musicComposer' not in movie_to_data[key]:\n",
    "        print(key)"
   ]
  }
 ],
 "metadata": {
  "kernelspec": {
   "display_name": "Python 3",
   "language": "python",
   "name": "python3"
  },
  "language_info": {
   "codemirror_mode": {
    "name": "ipython",
    "version": 3
   },
   "file_extension": ".py",
   "mimetype": "text/x-python",
   "name": "python",
   "nbconvert_exporter": "python",
   "pygments_lexer": "ipython3",
   "version": "3.7.1"
  }
 },
 "nbformat": 4,
 "nbformat_minor": 2
}
